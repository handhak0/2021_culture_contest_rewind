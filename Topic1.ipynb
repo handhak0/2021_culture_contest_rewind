{
  "nbformat": 4,
  "nbformat_minor": 0,
  "metadata": {
    "colab": {
      "name": "Topic1.ipynb",
      "provenance": []
    },
    "kernelspec": {
      "name": "python3",
      "display_name": "Python 3"
    },
    "language_info": {
      "name": "python"
    }
  },
  "cells": [
    {
      "cell_type": "markdown",
      "metadata": {
        "id": "dtrgnUT20C7r"
      },
      "source": [
        "# 환경설정"
      ]
    },
    {
      "cell_type": "code",
      "metadata": {
        "colab": {
          "base_uri": "https://localhost:8080/"
        },
        "id": "JU3yZ6XH0Vem",
        "outputId": "02d36059-d0e4-492c-9d81-e803b94db086"
      },
      "source": [
        "# colab 드라이브 연결하기 \n",
        "from google.colab import drive\n",
        "drive.mount('/content/drive')"
      ],
      "execution_count": null,
      "outputs": [
        {
          "output_type": "stream",
          "text": [
            "Drive already mounted at /content/drive; to attempt to forcibly remount, call drive.mount(\"/content/drive\", force_remount=True).\n"
          ],
          "name": "stdout"
        }
      ]
    },
    {
      "cell_type": "code",
      "metadata": {
        "id": "SX485gQUz6e_"
      },
      "source": [
        "# 데이터프레임 다루기 \n",
        "import pandas as pd \n",
        "import numpy as np \n",
        "\n",
        "import warnings \n",
        "warnings.filterwarnings('ignore')"
      ],
      "execution_count": null,
      "outputs": []
    },
    {
      "cell_type": "markdown",
      "metadata": {
        "id": "cZgXYg0X024F"
      },
      "source": [
        "# 데이터 전처리"
      ]
    },
    {
      "cell_type": "code",
      "metadata": {
        "colab": {
          "base_uri": "https://localhost:8080/",
          "height": 202
        },
        "id": "LgjOokik0Oc0",
        "outputId": "aecbffb4-c7a3-4961-9619-cee399976fdc"
      },
      "source": [
        "# 데이터 불러오기 \n",
        "df_nt = pd.read_csv('/content/drive/MyDrive/프로젝트/문화관광빅데이터/NATIVE_RE.txt', sep = '|')\n",
        "df_nt.head()"
      ],
      "execution_count": null,
      "outputs": [
        {
          "output_type": "execute_result",
          "data": {
            "text/html": [
              "<div>\n",
              "<style scoped>\n",
              "    .dataframe tbody tr th:only-of-type {\n",
              "        vertical-align: middle;\n",
              "    }\n",
              "\n",
              "    .dataframe tbody tr th {\n",
              "        vertical-align: top;\n",
              "    }\n",
              "\n",
              "    .dataframe thead th {\n",
              "        text-align: right;\n",
              "    }\n",
              "</style>\n",
              "<table border=\"1\" class=\"dataframe\">\n",
              "  <thead>\n",
              "    <tr style=\"text-align: right;\">\n",
              "      <th></th>\n",
              "      <th>v1</th>\n",
              "      <th>v2</th>\n",
              "      <th>v3</th>\n",
              "      <th>gb3</th>\n",
              "      <th>gb2</th>\n",
              "      <th>sex_ccd</th>\n",
              "      <th>cln_age_r</th>\n",
              "      <th>ta_ym</th>\n",
              "      <th>daw_ccd_r</th>\n",
              "      <th>apv_ts_dl_tm_r</th>\n",
              "      <th>vlm</th>\n",
              "      <th>usec</th>\n",
              "    </tr>\n",
              "  </thead>\n",
              "  <tbody>\n",
              "    <tr>\n",
              "      <th>0</th>\n",
              "      <td>세종</td>\n",
              "      <td>세종</td>\n",
              "      <td>.</td>\n",
              "      <td>취미오락</td>\n",
              "      <td>외식</td>\n",
              "      <td>M</td>\n",
              "      <td>30</td>\n",
              "      <td>201701</td>\n",
              "      <td>RED</td>\n",
              "      <td>활동</td>\n",
              "      <td>351296766</td>\n",
              "      <td>19010</td>\n",
              "    </tr>\n",
              "    <tr>\n",
              "      <th>1</th>\n",
              "      <td>세종</td>\n",
              "      <td>세종</td>\n",
              "      <td>.</td>\n",
              "      <td>취미오락</td>\n",
              "      <td>종합쇼핑</td>\n",
              "      <td>M</td>\n",
              "      <td>50</td>\n",
              "      <td>201701</td>\n",
              "      <td>RED</td>\n",
              "      <td>휴식</td>\n",
              "      <td>72244196</td>\n",
              "      <td>2375</td>\n",
              "    </tr>\n",
              "    <tr>\n",
              "      <th>2</th>\n",
              "      <td>세종</td>\n",
              "      <td>세종</td>\n",
              "      <td>.</td>\n",
              "      <td>취미오락</td>\n",
              "      <td>종합쇼핑</td>\n",
              "      <td>M</td>\n",
              "      <td>30</td>\n",
              "      <td>201701</td>\n",
              "      <td>WHITE</td>\n",
              "      <td>휴식</td>\n",
              "      <td>532911085</td>\n",
              "      <td>19979</td>\n",
              "    </tr>\n",
              "    <tr>\n",
              "      <th>3</th>\n",
              "      <td>충남</td>\n",
              "      <td>세종</td>\n",
              "      <td>.</td>\n",
              "      <td>취미오락</td>\n",
              "      <td>종합쇼핑</td>\n",
              "      <td>M</td>\n",
              "      <td>50</td>\n",
              "      <td>201701</td>\n",
              "      <td>WHITE</td>\n",
              "      <td>활동</td>\n",
              "      <td>50972534</td>\n",
              "      <td>951</td>\n",
              "    </tr>\n",
              "    <tr>\n",
              "      <th>4</th>\n",
              "      <td>충남</td>\n",
              "      <td>세종</td>\n",
              "      <td>.</td>\n",
              "      <td>취미오락</td>\n",
              "      <td>종합쇼핑</td>\n",
              "      <td>M</td>\n",
              "      <td>40</td>\n",
              "      <td>201701</td>\n",
              "      <td>RED</td>\n",
              "      <td>휴식</td>\n",
              "      <td>19104457</td>\n",
              "      <td>408</td>\n",
              "    </tr>\n",
              "  </tbody>\n",
              "</table>\n",
              "</div>"
            ],
            "text/plain": [
              "   v1  v2 v3   gb3   gb2  ...   ta_ym daw_ccd_r  apv_ts_dl_tm_r        vlm   usec\n",
              "0  세종  세종  .  취미오락    외식  ...  201701       RED              활동  351296766  19010\n",
              "1  세종  세종  .  취미오락  종합쇼핑  ...  201701       RED              휴식   72244196   2375\n",
              "2  세종  세종  .  취미오락  종합쇼핑  ...  201701     WHITE              휴식  532911085  19979\n",
              "3  충남  세종  .  취미오락  종합쇼핑  ...  201701     WHITE              활동   50972534    951\n",
              "4  충남  세종  .  취미오락  종합쇼핑  ...  201701       RED              휴식   19104457    408\n",
              "\n",
              "[5 rows x 12 columns]"
            ]
          },
          "metadata": {},
          "execution_count": 3
        }
      ]
    },
    {
      "cell_type": "code",
      "metadata": {
        "colab": {
          "base_uri": "https://localhost:8080/"
        },
        "id": "u8Opoqu70oBo",
        "outputId": "3af693aa-a9a0-4453-cc67-bd271cdb9923"
      },
      "source": [
        "# 데이터 컬럼 확인 \n",
        "df_nt.columns"
      ],
      "execution_count": null,
      "outputs": [
        {
          "output_type": "execute_result",
          "data": {
            "text/plain": [
              "Index(['v1', 'v2', 'v3', 'gb3', 'gb2', 'sex_ccd', 'cln_age_r', 'ta_ym',\n",
              "       'daw_ccd_r', 'apv_ts_dl_tm_r', 'vlm', 'usec'],\n",
              "      dtype='object')"
            ]
          },
          "metadata": {},
          "execution_count": 4
        }
      ]
    },
    {
      "cell_type": "code",
      "metadata": {
        "colab": {
          "base_uri": "https://localhost:8080/"
        },
        "id": "DI_rmHK824c3",
        "outputId": "a8d3f0d0-1d19-45de-e27d-32b9506849a9"
      },
      "source": [
        "# 데이터 컬럼 명 변경 \n",
        "df_nt.rename(columns={'v1':'거주지', 'v2':'이용_시도', 'v3':'이용_시군구', 'gb3':'업종대','gb2':'업종소','sex_ccd':'성별','cln_age_r':'연령대', 'ta_ym':'이용년월',\n",
        "       'daw_ccd_r' :'요일', 'apv_ts_dl_tm_r':'이용시간대', 'vlm':\"취급액(원)\", 'usec':'이용건수(건)'},inplace = True)\n",
        "\n",
        "# 데이터 타입 확인 \n",
        "df_nt.dtypes"
      ],
      "execution_count": null,
      "outputs": [
        {
          "output_type": "execute_result",
          "data": {
            "text/plain": [
              "거주지        object\n",
              "이용_시도      object\n",
              "이용_시군구     object\n",
              "업종대        object\n",
              "업종소        object\n",
              "성별         object\n",
              "연령대        object\n",
              "이용년월        int64\n",
              "요일         object\n",
              "이용시간대      object\n",
              "취급액(원)      int64\n",
              "이용건수(건)     int64\n",
              "dtype: object"
            ]
          },
          "metadata": {},
          "execution_count": 5
        }
      ]
    },
    {
      "cell_type": "code",
      "metadata": {
        "colab": {
          "base_uri": "https://localhost:8080/",
          "height": 202
        },
        "id": "UYyhmDBU3RjC",
        "outputId": "2f710b82-9e2f-43c1-ae52-53af8f513d8d"
      },
      "source": [
        "# 행 선택 \n",
        "df_nt = df_nt[df_nt['업종대'] == '여행']\n",
        "df_nt = df_nt[df_nt['이용년월']>=201901]\n",
        "\n",
        "df_nt.head()"
      ],
      "execution_count": null,
      "outputs": [
        {
          "output_type": "execute_result",
          "data": {
            "text/html": [
              "<div>\n",
              "<style scoped>\n",
              "    .dataframe tbody tr th:only-of-type {\n",
              "        vertical-align: middle;\n",
              "    }\n",
              "\n",
              "    .dataframe tbody tr th {\n",
              "        vertical-align: top;\n",
              "    }\n",
              "\n",
              "    .dataframe thead th {\n",
              "        text-align: right;\n",
              "    }\n",
              "</style>\n",
              "<table border=\"1\" class=\"dataframe\">\n",
              "  <thead>\n",
              "    <tr style=\"text-align: right;\">\n",
              "      <th></th>\n",
              "      <th>거주지</th>\n",
              "      <th>이용_시도</th>\n",
              "      <th>이용_시군구</th>\n",
              "      <th>업종대</th>\n",
              "      <th>업종소</th>\n",
              "      <th>성별</th>\n",
              "      <th>연령대</th>\n",
              "      <th>이용년월</th>\n",
              "      <th>요일</th>\n",
              "      <th>이용시간대</th>\n",
              "      <th>취급액(원)</th>\n",
              "      <th>이용건수(건)</th>\n",
              "    </tr>\n",
              "  </thead>\n",
              "  <tbody>\n",
              "    <tr>\n",
              "      <th>24524739</th>\n",
              "      <td>인천</td>\n",
              "      <td>세종</td>\n",
              "      <td>.</td>\n",
              "      <td>여행</td>\n",
              "      <td>숙박</td>\n",
              "      <td>M</td>\n",
              "      <td>20</td>\n",
              "      <td>201901</td>\n",
              "      <td>WHITE</td>\n",
              "      <td>활동</td>\n",
              "      <td>2012000</td>\n",
              "      <td>45</td>\n",
              "    </tr>\n",
              "    <tr>\n",
              "      <th>24524742</th>\n",
              "      <td>제주</td>\n",
              "      <td>세종</td>\n",
              "      <td>.</td>\n",
              "      <td>여행</td>\n",
              "      <td>숙박</td>\n",
              "      <td>M</td>\n",
              "      <td>30</td>\n",
              "      <td>201901</td>\n",
              "      <td>WHITE</td>\n",
              "      <td>휴식</td>\n",
              "      <td>1006000</td>\n",
              "      <td>30</td>\n",
              "    </tr>\n",
              "    <tr>\n",
              "      <th>24524750</th>\n",
              "      <td>인천</td>\n",
              "      <td>세종</td>\n",
              "      <td>.</td>\n",
              "      <td>여행</td>\n",
              "      <td>숙박</td>\n",
              "      <td>F</td>\n",
              "      <td>50</td>\n",
              "      <td>201901</td>\n",
              "      <td>WHITE</td>\n",
              "      <td>활동</td>\n",
              "      <td>2665900</td>\n",
              "      <td>45</td>\n",
              "    </tr>\n",
              "    <tr>\n",
              "      <th>24524767</th>\n",
              "      <td>대전</td>\n",
              "      <td>세종</td>\n",
              "      <td>.</td>\n",
              "      <td>여행</td>\n",
              "      <td>체험</td>\n",
              "      <td>M</td>\n",
              "      <td>50</td>\n",
              "      <td>201901</td>\n",
              "      <td>WHITE</td>\n",
              "      <td>휴식</td>\n",
              "      <td>50300</td>\n",
              "      <td>5</td>\n",
              "    </tr>\n",
              "    <tr>\n",
              "      <th>24524803</th>\n",
              "      <td>충남</td>\n",
              "      <td>세종</td>\n",
              "      <td>.</td>\n",
              "      <td>여행</td>\n",
              "      <td>체험</td>\n",
              "      <td>F</td>\n",
              "      <td>30</td>\n",
              "      <td>201901</td>\n",
              "      <td>WHITE</td>\n",
              "      <td>활동</td>\n",
              "      <td>181080</td>\n",
              "      <td>15</td>\n",
              "    </tr>\n",
              "  </tbody>\n",
              "</table>\n",
              "</div>"
            ],
            "text/plain": [
              "         거주지 이용_시도 이용_시군구 업종대 업종소 성별 연령대    이용년월     요일 이용시간대   취급액(원)  이용건수(건)\n",
              "24524739  인천    세종      .  여행  숙박  M  20  201901  WHITE    활동  2012000       45\n",
              "24524742  제주    세종      .  여행  숙박  M  30  201901  WHITE    휴식  1006000       30\n",
              "24524750  인천    세종      .  여행  숙박  F  50  201901  WHITE    활동  2665900       45\n",
              "24524767  대전    세종      .  여행  체험  M  50  201901  WHITE    휴식    50300        5\n",
              "24524803  충남    세종      .  여행  체험  F  30  201901  WHITE    활동   181080       15"
            ]
          },
          "metadata": {},
          "execution_count": 7
        }
      ]
    },
    {
      "cell_type": "code",
      "metadata": {
        "colab": {
          "base_uri": "https://localhost:8080/",
          "height": 202
        },
        "id": "9K0_WDa13EdY",
        "outputId": "4e2e0c18-4364-4ad9-c527-c0af8f5f731f"
      },
      "source": [
        "# 연월별 지출 데이터 추출 \n",
        "df_cs = df_nt[['이용년월','취급액(원)','이용건수(건)']]\n",
        "df_cs.reset_index(inplace = True, drop = True)\n",
        "df_cs.head(5)"
      ],
      "execution_count": null,
      "outputs": [
        {
          "output_type": "execute_result",
          "data": {
            "text/html": [
              "<div>\n",
              "<style scoped>\n",
              "    .dataframe tbody tr th:only-of-type {\n",
              "        vertical-align: middle;\n",
              "    }\n",
              "\n",
              "    .dataframe tbody tr th {\n",
              "        vertical-align: top;\n",
              "    }\n",
              "\n",
              "    .dataframe thead th {\n",
              "        text-align: right;\n",
              "    }\n",
              "</style>\n",
              "<table border=\"1\" class=\"dataframe\">\n",
              "  <thead>\n",
              "    <tr style=\"text-align: right;\">\n",
              "      <th></th>\n",
              "      <th>이용년월</th>\n",
              "      <th>취급액(원)</th>\n",
              "      <th>이용건수(건)</th>\n",
              "    </tr>\n",
              "  </thead>\n",
              "  <tbody>\n",
              "    <tr>\n",
              "      <th>0</th>\n",
              "      <td>201901</td>\n",
              "      <td>2012000</td>\n",
              "      <td>45</td>\n",
              "    </tr>\n",
              "    <tr>\n",
              "      <th>1</th>\n",
              "      <td>201901</td>\n",
              "      <td>1006000</td>\n",
              "      <td>30</td>\n",
              "    </tr>\n",
              "    <tr>\n",
              "      <th>2</th>\n",
              "      <td>201901</td>\n",
              "      <td>2665900</td>\n",
              "      <td>45</td>\n",
              "    </tr>\n",
              "    <tr>\n",
              "      <th>3</th>\n",
              "      <td>201901</td>\n",
              "      <td>50300</td>\n",
              "      <td>5</td>\n",
              "    </tr>\n",
              "    <tr>\n",
              "      <th>4</th>\n",
              "      <td>201901</td>\n",
              "      <td>181080</td>\n",
              "      <td>15</td>\n",
              "    </tr>\n",
              "  </tbody>\n",
              "</table>\n",
              "</div>"
            ],
            "text/plain": [
              "     이용년월   취급액(원)  이용건수(건)\n",
              "0  201901  2012000       45\n",
              "1  201901  1006000       30\n",
              "2  201901  2665900       45\n",
              "3  201901    50300        5\n",
              "4  201901   181080       15"
            ]
          },
          "metadata": {},
          "execution_count": 10
        }
      ]
    },
    {
      "cell_type": "code",
      "metadata": {
        "id": "4qEl6gu64Pax"
      },
      "source": [
        " df_cs = df_cs.groupby('이용년월').sum()\n",
        " df_cs.reset_index(inplace = True)\n",
        " df_cs.head()"
      ],
      "execution_count": null,
      "outputs": []
    },
    {
      "cell_type": "code",
      "metadata": {
        "colab": {
          "base_uri": "https://localhost:8080/",
          "height": 202
        },
        "id": "HrrjN9aw5yqv",
        "outputId": "9c6e9d17-53bf-4fd8-b1d3-34ba0896783c"
      },
      "source": [
        "df_cs['년'] = df_cs['이용년월'] // 100 # 몫 계산 \n",
        "df_cs['월'] = df_cs['이용년월'] % 100 # 나머지 \n",
        "df_cs.head(5)"
      ],
      "execution_count": null,
      "outputs": [
        {
          "output_type": "execute_result",
          "data": {
            "text/html": [
              "<div>\n",
              "<style scoped>\n",
              "    .dataframe tbody tr th:only-of-type {\n",
              "        vertical-align: middle;\n",
              "    }\n",
              "\n",
              "    .dataframe tbody tr th {\n",
              "        vertical-align: top;\n",
              "    }\n",
              "\n",
              "    .dataframe thead th {\n",
              "        text-align: right;\n",
              "    }\n",
              "</style>\n",
              "<table border=\"1\" class=\"dataframe\">\n",
              "  <thead>\n",
              "    <tr style=\"text-align: right;\">\n",
              "      <th></th>\n",
              "      <th>이용년월</th>\n",
              "      <th>취급액(원)</th>\n",
              "      <th>이용건수(건)</th>\n",
              "      <th>년</th>\n",
              "      <th>월</th>\n",
              "    </tr>\n",
              "  </thead>\n",
              "  <tbody>\n",
              "    <tr>\n",
              "      <th>0</th>\n",
              "      <td>201901</td>\n",
              "      <td>1507811536061</td>\n",
              "      <td>23865740</td>\n",
              "      <td>2019</td>\n",
              "      <td>1</td>\n",
              "    </tr>\n",
              "    <tr>\n",
              "      <th>1</th>\n",
              "      <td>201902</td>\n",
              "      <td>1249449412724</td>\n",
              "      <td>21839843</td>\n",
              "      <td>2019</td>\n",
              "      <td>2</td>\n",
              "    </tr>\n",
              "    <tr>\n",
              "      <th>2</th>\n",
              "      <td>201903</td>\n",
              "      <td>1263049292946</td>\n",
              "      <td>23033719</td>\n",
              "      <td>2019</td>\n",
              "      <td>3</td>\n",
              "    </tr>\n",
              "    <tr>\n",
              "      <th>3</th>\n",
              "      <td>201904</td>\n",
              "      <td>1315291939069</td>\n",
              "      <td>22879547</td>\n",
              "      <td>2019</td>\n",
              "      <td>4</td>\n",
              "    </tr>\n",
              "    <tr>\n",
              "      <th>4</th>\n",
              "      <td>201905</td>\n",
              "      <td>1433365398429</td>\n",
              "      <td>24495065</td>\n",
              "      <td>2019</td>\n",
              "      <td>5</td>\n",
              "    </tr>\n",
              "  </tbody>\n",
              "</table>\n",
              "</div>"
            ],
            "text/plain": [
              "     이용년월         취급액(원)   이용건수(건)     년  월\n",
              "0  201901  1507811536061  23865740  2019  1\n",
              "1  201902  1249449412724  21839843  2019  2\n",
              "2  201903  1263049292946  23033719  2019  3\n",
              "3  201904  1315291939069  22879547  2019  4\n",
              "4  201905  1433365398429  24495065  2019  5"
            ]
          },
          "metadata": {},
          "execution_count": 14
        }
      ]
    },
    {
      "cell_type": "markdown",
      "metadata": {
        "id": "CQxAO6bo6cLy"
      },
      "source": [
        "# 연도별 여행 소비금액 변화 시각화"
      ]
    },
    {
      "cell_type": "code",
      "metadata": {
        "id": "6IYrfcNb6Oaz"
      },
      "source": [
        "# 모듈 불러오기 \n",
        "import plotly.graph_objs as go \n",
        "import plotly.express as px  "
      ],
      "execution_count": null,
      "outputs": []
    },
    {
      "cell_type": "code",
      "metadata": {
        "colab": {
          "base_uri": "https://localhost:8080/",
          "height": 542
        },
        "id": "VGzxO4Qb6qQO",
        "outputId": "c6e66f9f-373a-4f56-c617-3dccee73547f"
      },
      "source": [
        "years = [2019, 2020, 2021] \n",
        "colors = ['#FF8364','#5F6CAF', '#FFB677' ]\n",
        "\n",
        "fig = go.Figure() # 그래프 그릴 fig 생성 \n",
        "\n",
        "for i in range(len(years)) : \n",
        "  fig.add_trace(go.Scatter(x = df_cs[df_cs['년']== years[i]]['월'], \n",
        "                           y = df_cs[df_cs['년']== years[i]]['취급액(원)'],\n",
        "                           name = f'{years[i]}년 소비금액',\n",
        "                           hovertemplate = '<i>월 : </i> : %{x}월' + \n",
        "                           '<br><br>소비금액(원)</b> : %{y} <br>',\n",
        "                           line = dict(color = colors[i],\n",
        "                                       width = 3)))\n",
        "\n",
        "fig.update_layout(title = '연도별 여행 소비금액 변화 시각화',\n",
        "                  xaxis_title = '월',\n",
        "                  yaxis_title = '소비금액(원)',\n",
        "                  plot_bgcolor = \"#f4f4f4\")\n",
        "\n",
        "fig.show()"
      ],
      "execution_count": null,
      "outputs": [
        {
          "output_type": "display_data",
          "data": {
            "text/html": [
              "<html>\n",
              "<head><meta charset=\"utf-8\" /></head>\n",
              "<body>\n",
              "    <div>\n",
              "            <script src=\"https://cdnjs.cloudflare.com/ajax/libs/mathjax/2.7.5/MathJax.js?config=TeX-AMS-MML_SVG\"></script><script type=\"text/javascript\">if (window.MathJax) {MathJax.Hub.Config({SVG: {font: \"STIX-Web\"}});}</script>\n",
              "                <script type=\"text/javascript\">window.PlotlyConfig = {MathJaxConfig: 'local'};</script>\n",
              "        <script src=\"https://cdn.plot.ly/plotly-latest.min.js\"></script>    \n",
              "            <div id=\"65e9c91e-5a54-4979-b08f-ba56508a8db1\" class=\"plotly-graph-div\" style=\"height:525px; width:100%;\"></div>\n",
              "            <script type=\"text/javascript\">\n",
              "                \n",
              "                    window.PLOTLYENV=window.PLOTLYENV || {};\n",
              "                    \n",
              "                if (document.getElementById(\"65e9c91e-5a54-4979-b08f-ba56508a8db1\")) {\n",
              "                    Plotly.newPlot(\n",
              "                        '65e9c91e-5a54-4979-b08f-ba56508a8db1',\n",
              "                        [{\"hovertemplate\": \"<i>\\uc6d4 : </i> : %{x}\\uc6d4<br><br>\\uc18c\\ube44\\uae08\\uc561(\\uc6d0)</b> : %{y} <br>\", \"line\": {\"color\": \"#FF8364\", \"width\": 3}, \"name\": \"2019\\ub144 \\uc18c\\ube44\\uae08\\uc561\", \"type\": \"scatter\", \"x\": [1, 2, 3, 4, 5, 6, 7, 8, 9, 10, 11, 12], \"y\": [1507811536061, 1249449412724, 1263049292946, 1315291939069, 1433365398429, 1360169008161, 1507301953647, 1497294104601, 1255212997931, 1340600193656, 1235686005997, 1375889035687]}, {\"hovertemplate\": \"<i>\\uc6d4 : </i> : %{x}\\uc6d4<br><br>\\uc18c\\ube44\\uae08\\uc561(\\uc6d0)</b> : %{y} <br>\", \"line\": {\"color\": \"#5F6CAF\", \"width\": 3}, \"name\": \"2020\\ub144 \\uc18c\\ube44\\uae08\\uc561\", \"type\": \"scatter\", \"x\": [1, 2, 3, 4, 5, 6, 7, 8, 9, 10, 11, 12], \"y\": [1298643844301, 702297125397, 406223810010, 461633267356, 651124210326, 642193294126, 796277913929, 845164350128, 566748359925, 734306040847, 721372938355, 504166698179]}, {\"hovertemplate\": \"<i>\\uc6d4 : </i> : %{x}\\uc6d4<br><br>\\uc18c\\ube44\\uae08\\uc561(\\uc6d0)</b> : %{y} <br>\", \"line\": {\"color\": \"#FFB677\", \"width\": 3}, \"name\": \"2021\\ub144 \\uc18c\\ube44\\uae08\\uc561\", \"type\": \"scatter\", \"x\": [1, 2, 3, 4, 5], \"y\": [516276060503, 592819045381, 676498488340, 740653917699, 818445764414]}],\n",
              "                        {\"plot_bgcolor\": \"#f4f4f4\", \"template\": {\"data\": {\"bar\": [{\"error_x\": {\"color\": \"#2a3f5f\"}, \"error_y\": {\"color\": \"#2a3f5f\"}, \"marker\": {\"line\": {\"color\": \"#E5ECF6\", \"width\": 0.5}}, \"type\": \"bar\"}], \"barpolar\": [{\"marker\": {\"line\": {\"color\": \"#E5ECF6\", \"width\": 0.5}}, \"type\": \"barpolar\"}], \"carpet\": [{\"aaxis\": {\"endlinecolor\": \"#2a3f5f\", \"gridcolor\": \"white\", \"linecolor\": \"white\", \"minorgridcolor\": \"white\", \"startlinecolor\": \"#2a3f5f\"}, \"baxis\": {\"endlinecolor\": \"#2a3f5f\", \"gridcolor\": \"white\", \"linecolor\": \"white\", \"minorgridcolor\": \"white\", \"startlinecolor\": \"#2a3f5f\"}, \"type\": \"carpet\"}], \"choropleth\": [{\"colorbar\": {\"outlinewidth\": 0, \"ticks\": \"\"}, \"type\": \"choropleth\"}], \"contour\": [{\"colorbar\": {\"outlinewidth\": 0, \"ticks\": \"\"}, \"colorscale\": [[0.0, \"#0d0887\"], [0.1111111111111111, \"#46039f\"], [0.2222222222222222, \"#7201a8\"], [0.3333333333333333, \"#9c179e\"], [0.4444444444444444, \"#bd3786\"], [0.5555555555555556, \"#d8576b\"], [0.6666666666666666, \"#ed7953\"], [0.7777777777777778, \"#fb9f3a\"], [0.8888888888888888, \"#fdca26\"], [1.0, \"#f0f921\"]], \"type\": \"contour\"}], \"contourcarpet\": [{\"colorbar\": {\"outlinewidth\": 0, \"ticks\": \"\"}, \"type\": \"contourcarpet\"}], \"heatmap\": [{\"colorbar\": {\"outlinewidth\": 0, \"ticks\": \"\"}, \"colorscale\": [[0.0, \"#0d0887\"], [0.1111111111111111, \"#46039f\"], [0.2222222222222222, \"#7201a8\"], [0.3333333333333333, \"#9c179e\"], [0.4444444444444444, \"#bd3786\"], [0.5555555555555556, \"#d8576b\"], [0.6666666666666666, \"#ed7953\"], [0.7777777777777778, \"#fb9f3a\"], [0.8888888888888888, \"#fdca26\"], [1.0, \"#f0f921\"]], \"type\": \"heatmap\"}], \"heatmapgl\": [{\"colorbar\": {\"outlinewidth\": 0, \"ticks\": \"\"}, \"colorscale\": [[0.0, \"#0d0887\"], [0.1111111111111111, \"#46039f\"], [0.2222222222222222, \"#7201a8\"], [0.3333333333333333, \"#9c179e\"], [0.4444444444444444, \"#bd3786\"], [0.5555555555555556, \"#d8576b\"], [0.6666666666666666, \"#ed7953\"], [0.7777777777777778, \"#fb9f3a\"], [0.8888888888888888, \"#fdca26\"], [1.0, \"#f0f921\"]], \"type\": \"heatmapgl\"}], \"histogram\": [{\"marker\": {\"colorbar\": {\"outlinewidth\": 0, \"ticks\": \"\"}}, \"type\": \"histogram\"}], \"histogram2d\": [{\"colorbar\": {\"outlinewidth\": 0, \"ticks\": \"\"}, \"colorscale\": [[0.0, \"#0d0887\"], [0.1111111111111111, \"#46039f\"], [0.2222222222222222, \"#7201a8\"], [0.3333333333333333, \"#9c179e\"], [0.4444444444444444, \"#bd3786\"], [0.5555555555555556, \"#d8576b\"], [0.6666666666666666, \"#ed7953\"], [0.7777777777777778, \"#fb9f3a\"], [0.8888888888888888, \"#fdca26\"], [1.0, \"#f0f921\"]], \"type\": \"histogram2d\"}], \"histogram2dcontour\": [{\"colorbar\": {\"outlinewidth\": 0, \"ticks\": \"\"}, \"colorscale\": [[0.0, \"#0d0887\"], [0.1111111111111111, \"#46039f\"], [0.2222222222222222, \"#7201a8\"], [0.3333333333333333, \"#9c179e\"], [0.4444444444444444, \"#bd3786\"], [0.5555555555555556, \"#d8576b\"], [0.6666666666666666, \"#ed7953\"], [0.7777777777777778, \"#fb9f3a\"], [0.8888888888888888, \"#fdca26\"], [1.0, \"#f0f921\"]], \"type\": \"histogram2dcontour\"}], \"mesh3d\": [{\"colorbar\": {\"outlinewidth\": 0, \"ticks\": \"\"}, \"type\": \"mesh3d\"}], \"parcoords\": [{\"line\": {\"colorbar\": {\"outlinewidth\": 0, \"ticks\": \"\"}}, \"type\": \"parcoords\"}], \"pie\": [{\"automargin\": true, \"type\": \"pie\"}], \"scatter\": [{\"marker\": {\"colorbar\": {\"outlinewidth\": 0, \"ticks\": \"\"}}, \"type\": \"scatter\"}], \"scatter3d\": [{\"line\": {\"colorbar\": {\"outlinewidth\": 0, \"ticks\": \"\"}}, \"marker\": {\"colorbar\": {\"outlinewidth\": 0, \"ticks\": \"\"}}, \"type\": \"scatter3d\"}], \"scattercarpet\": [{\"marker\": {\"colorbar\": {\"outlinewidth\": 0, \"ticks\": \"\"}}, \"type\": \"scattercarpet\"}], \"scattergeo\": [{\"marker\": {\"colorbar\": {\"outlinewidth\": 0, \"ticks\": \"\"}}, \"type\": \"scattergeo\"}], \"scattergl\": [{\"marker\": {\"colorbar\": {\"outlinewidth\": 0, \"ticks\": \"\"}}, \"type\": \"scattergl\"}], \"scattermapbox\": [{\"marker\": {\"colorbar\": {\"outlinewidth\": 0, \"ticks\": \"\"}}, \"type\": \"scattermapbox\"}], \"scatterpolar\": [{\"marker\": {\"colorbar\": {\"outlinewidth\": 0, \"ticks\": \"\"}}, \"type\": \"scatterpolar\"}], \"scatterpolargl\": [{\"marker\": {\"colorbar\": {\"outlinewidth\": 0, \"ticks\": \"\"}}, \"type\": \"scatterpolargl\"}], \"scatterternary\": [{\"marker\": {\"colorbar\": {\"outlinewidth\": 0, \"ticks\": \"\"}}, \"type\": \"scatterternary\"}], \"surface\": [{\"colorbar\": {\"outlinewidth\": 0, \"ticks\": \"\"}, \"colorscale\": [[0.0, \"#0d0887\"], [0.1111111111111111, \"#46039f\"], [0.2222222222222222, \"#7201a8\"], [0.3333333333333333, \"#9c179e\"], [0.4444444444444444, \"#bd3786\"], [0.5555555555555556, \"#d8576b\"], [0.6666666666666666, \"#ed7953\"], [0.7777777777777778, \"#fb9f3a\"], [0.8888888888888888, \"#fdca26\"], [1.0, \"#f0f921\"]], \"type\": \"surface\"}], \"table\": [{\"cells\": {\"fill\": {\"color\": \"#EBF0F8\"}, \"line\": {\"color\": \"white\"}}, \"header\": {\"fill\": {\"color\": \"#C8D4E3\"}, \"line\": {\"color\": \"white\"}}, \"type\": \"table\"}]}, \"layout\": {\"annotationdefaults\": {\"arrowcolor\": \"#2a3f5f\", \"arrowhead\": 0, \"arrowwidth\": 1}, \"coloraxis\": {\"colorbar\": {\"outlinewidth\": 0, \"ticks\": \"\"}}, \"colorscale\": {\"diverging\": [[0, \"#8e0152\"], [0.1, \"#c51b7d\"], [0.2, \"#de77ae\"], [0.3, \"#f1b6da\"], [0.4, \"#fde0ef\"], [0.5, \"#f7f7f7\"], [0.6, \"#e6f5d0\"], [0.7, \"#b8e186\"], [0.8, \"#7fbc41\"], [0.9, \"#4d9221\"], [1, \"#276419\"]], \"sequential\": [[0.0, \"#0d0887\"], [0.1111111111111111, \"#46039f\"], [0.2222222222222222, \"#7201a8\"], [0.3333333333333333, \"#9c179e\"], [0.4444444444444444, \"#bd3786\"], [0.5555555555555556, \"#d8576b\"], [0.6666666666666666, \"#ed7953\"], [0.7777777777777778, \"#fb9f3a\"], [0.8888888888888888, \"#fdca26\"], [1.0, \"#f0f921\"]], \"sequentialminus\": [[0.0, \"#0d0887\"], [0.1111111111111111, \"#46039f\"], [0.2222222222222222, \"#7201a8\"], [0.3333333333333333, \"#9c179e\"], [0.4444444444444444, \"#bd3786\"], [0.5555555555555556, \"#d8576b\"], [0.6666666666666666, \"#ed7953\"], [0.7777777777777778, \"#fb9f3a\"], [0.8888888888888888, \"#fdca26\"], [1.0, \"#f0f921\"]]}, \"colorway\": [\"#636efa\", \"#EF553B\", \"#00cc96\", \"#ab63fa\", \"#FFA15A\", \"#19d3f3\", \"#FF6692\", \"#B6E880\", \"#FF97FF\", \"#FECB52\"], \"font\": {\"color\": \"#2a3f5f\"}, \"geo\": {\"bgcolor\": \"white\", \"lakecolor\": \"white\", \"landcolor\": \"#E5ECF6\", \"showlakes\": true, \"showland\": true, \"subunitcolor\": \"white\"}, \"hoverlabel\": {\"align\": \"left\"}, \"hovermode\": \"closest\", \"mapbox\": {\"style\": \"light\"}, \"paper_bgcolor\": \"white\", \"plot_bgcolor\": \"#E5ECF6\", \"polar\": {\"angularaxis\": {\"gridcolor\": \"white\", \"linecolor\": \"white\", \"ticks\": \"\"}, \"bgcolor\": \"#E5ECF6\", \"radialaxis\": {\"gridcolor\": \"white\", \"linecolor\": \"white\", \"ticks\": \"\"}}, \"scene\": {\"xaxis\": {\"backgroundcolor\": \"#E5ECF6\", \"gridcolor\": \"white\", \"gridwidth\": 2, \"linecolor\": \"white\", \"showbackground\": true, \"ticks\": \"\", \"zerolinecolor\": \"white\"}, \"yaxis\": {\"backgroundcolor\": \"#E5ECF6\", \"gridcolor\": \"white\", \"gridwidth\": 2, \"linecolor\": \"white\", \"showbackground\": true, \"ticks\": \"\", \"zerolinecolor\": \"white\"}, \"zaxis\": {\"backgroundcolor\": \"#E5ECF6\", \"gridcolor\": \"white\", \"gridwidth\": 2, \"linecolor\": \"white\", \"showbackground\": true, \"ticks\": \"\", \"zerolinecolor\": \"white\"}}, \"shapedefaults\": {\"line\": {\"color\": \"#2a3f5f\"}}, \"ternary\": {\"aaxis\": {\"gridcolor\": \"white\", \"linecolor\": \"white\", \"ticks\": \"\"}, \"baxis\": {\"gridcolor\": \"white\", \"linecolor\": \"white\", \"ticks\": \"\"}, \"bgcolor\": \"#E5ECF6\", \"caxis\": {\"gridcolor\": \"white\", \"linecolor\": \"white\", \"ticks\": \"\"}}, \"title\": {\"x\": 0.05}, \"xaxis\": {\"automargin\": true, \"gridcolor\": \"white\", \"linecolor\": \"white\", \"ticks\": \"\", \"title\": {\"standoff\": 15}, \"zerolinecolor\": \"white\", \"zerolinewidth\": 2}, \"yaxis\": {\"automargin\": true, \"gridcolor\": \"white\", \"linecolor\": \"white\", \"ticks\": \"\", \"title\": {\"standoff\": 15}, \"zerolinecolor\": \"white\", \"zerolinewidth\": 2}}}, \"title\": {\"text\": \"\\uc5f0\\ub3c4\\ubcc4 \\uc5ec\\ud589 \\uc18c\\ube44\\uae08\\uc561 \\ubcc0\\ud654 \\uc2dc\\uac01\\ud654\"}, \"xaxis\": {\"title\": {\"text\": \"\\uc6d4\"}}, \"yaxis\": {\"title\": {\"text\": \"\\uc18c\\ube44\\uae08\\uc561(\\uc6d0)\"}}},\n",
              "                        {\"responsive\": true}\n",
              "                    ).then(function(){\n",
              "                            \n",
              "var gd = document.getElementById('65e9c91e-5a54-4979-b08f-ba56508a8db1');\n",
              "var x = new MutationObserver(function (mutations, observer) {{\n",
              "        var display = window.getComputedStyle(gd).display;\n",
              "        if (!display || display === 'none') {{\n",
              "            console.log([gd, 'removed!']);\n",
              "            Plotly.purge(gd);\n",
              "            observer.disconnect();\n",
              "        }}\n",
              "}});\n",
              "\n",
              "// Listen for the removal of the full notebook cells\n",
              "var notebookContainer = gd.closest('#notebook-container');\n",
              "if (notebookContainer) {{\n",
              "    x.observe(notebookContainer, {childList: true});\n",
              "}}\n",
              "\n",
              "// Listen for the clearing of the current output cell\n",
              "var outputEl = gd.closest('.output');\n",
              "if (outputEl) {{\n",
              "    x.observe(outputEl, {childList: true});\n",
              "}}\n",
              "\n",
              "                        })\n",
              "                };\n",
              "                \n",
              "            </script>\n",
              "        </div>\n",
              "</body>\n",
              "</html>"
            ]
          },
          "metadata": {}
        }
      ]
    },
    {
      "cell_type": "markdown",
      "metadata": {
        "id": "FZ_aJUGh-DdT"
      },
      "source": [
        "![newplot.png](data:image/png;base64,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)"
      ]
    },
    {
      "cell_type": "code",
      "metadata": {
        "id": "50EXQVvr8cQW"
      },
      "source": [
        ""
      ],
      "execution_count": null,
      "outputs": []
    }
  ]
}